{
 "cells": [
  {
   "cell_type": "markdown",
   "metadata": {},
   "source": [
    "# Hello Quantum World\n",
    "\n",
    "Today, you’ll learn how to run code on a real IBM quantum computer. By the end,\n",
    "you’ll be able to create a simple quantum program that links two quantum bits\n",
    "(qubits) together. This connection between qubits is a key part of how quantum\n",
    "computers work. Let’s dive in and see quantum computing in action!\n",
    "\n",
    "### First time using a jupyter notebook? \n",
    "\n",
    "Press the play ▶ button next to the code cells below to run code in each cell. Follow the git below to see how to run the code cells in this notebook:\n",
    "\n",
    "<img src=\"./images/how-to-run-a-jupyter-code-cell.gif\" alt=\"how to run a code cell\" width=\"900\"/>"
   ]
  },
  {
   "cell_type": "markdown",
   "metadata": {},
   "source": [
    "## Install the proper tools"
   ]
  },
  {
   "cell_type": "code",
   "execution_count": null,
   "metadata": {},
   "outputs": [],
   "source": [
    "pip install qiskit-ibm-runtime qiskit[visualization]"
   ]
  },
  {
   "cell_type": "markdown",
   "metadata": {},
   "source": [
    "- This command installs special tools on your  Grader Than Workspace that let you use IBM’s quantum computers and create visuals to help understand quantum code.\n",
    "- By running this code on your Grader Than Workspace, you’ll be ready to write, test, and see quantum code in action, even if it’s your first time with quantum computing."
   ]
  },
  {
   "cell_type": "markdown",
   "metadata": {},
   "source": [
    "## Connect to the IBM Quantum Cloud"
   ]
  },
  {
   "cell_type": "code",
   "execution_count": null,
   "metadata": {},
   "outputs": [],
   "source": [
    "from qiskit_ibm_runtime import QiskitRuntimeService\n",
    "import random\n",
    "\n",
    "tokens = []\n",
    "\n",
    "token = random.choice(tokens)\n",
    " \n",
    "service = QiskitRuntimeService(channel=\"ibm_quantum\", token=token)"
   ]
  },
  {
   "cell_type": "markdown",
   "metadata": {},
   "source": [
    "- This code connects you to IBM’s quantum computer system using a secure token. \n",
    "- By creating this connection, you can send and run your quantum code on IBM’s quantum computers directly from this notebook."
   ]
  },
  {
   "cell_type": "markdown",
   "metadata": {},
   "source": [
    "## Create the quantum circuit"
   ]
  },
  {
   "cell_type": "code",
   "execution_count": null,
   "metadata": {},
   "outputs": [],
   "source": [
    "from qiskit import QuantumCircuit\n",
    "from qiskit.quantum_info import SparsePauliOp\n",
    "from qiskit.transpiler.preset_passmanagers import generate_preset_pass_manager\n",
    "from qiskit_ibm_runtime import EstimatorV2 as Estimator\n",
    "\n",
    "# Set up a circuit with two qubits\n",
    "qc = QuantumCircuit(2)\n",
    "\n",
    "# Add a Hadamard gate to the first qubit\n",
    "qc.h(0)\n",
    "\n",
    "# Link the first qubit to the second using a controlled-X gate\n",
    "qc.cx(0, 1)\n",
    "\n",
    "# Show a visual drawing of the circuit\n",
    "qc.draw(\"mpl\")"
   ]
  },
  {
   "cell_type": "markdown",
   "metadata": {},
   "source": [
    "- This code creates a **quantum circuit** with two qubits, which is like designing a path for our quantum information to follow.\n",
    "- The **Hadamard gate** on the first qubit puts it into a state where it can\n",
    "  interact with the second qubit, and the **controlled-X gate** links the two qubits,\n",
    "  creating an \"entangled\" state—a key concept in quantum computing.\n",
    "- Finally, `qc.draw(\"mpl\")` displays a visual of the circuit, making it easy to see each step of our quantum circuit.\n",
    "\n",
    "<details>\n",
    "  <summary>🙋🏻‍♀️ What is a gate?</summary>\n",
    "  \n",
    "  A gate in quantum computing is an operation that changes the state of a qubit,\n",
    "  similar to how a logic gate works in classical computing. Gates manipulate\n",
    "  qubits in specific ways to create the desired outcomes in a quantum circuit. \n",
    "</details>"
   ]
  },
  {
   "cell_type": "markdown",
   "metadata": {},
   "source": [
    "## Setup what we'd like to observe\n"
   ]
  },
  {
   "cell_type": "code",
   "execution_count": null,
   "metadata": {},
   "outputs": [],
   "source": [
    "# Define six different measurements (observables) for the circuit\n",
    "observables_labels = [\"IZ\", \"IX\", \"ZI\", \"XI\", \"ZZ\", \"XX\"]\n",
    "observables = [SparsePauliOp(label) for label in observables_labels]"
   ]
  },
  {
   "cell_type": "markdown",
   "metadata": {},
   "source": [
    "- This code sets up **six measurements** (called observables) to help us get information from the quantum circuit.\n",
    "- Each measurement type is created based on different letter codes, like \"IZ\" and \"XX,\" which tell the circuit what kind of data to collect.\n",
    "\n",
    "<details>\n",
    "  <summary>🤔 Learn more about these observables</summary>\n",
    "  \n",
    "Here’s a simple breakdown of each observable:\n",
    "\n",
    "- **IZ**: Measures the Z (phase) property of the second qubit while ignoring the first qubit.\n",
    "- **IX**: Measures the X (flip) property of the second qubit while ignoring the first qubit.\n",
    "- **ZI**: Measures the Z (phase) property of the first qubit while ignoring the second qubit.\n",
    "- **XI**: Measures the X (flip) property of the first qubit while ignoring the second qubit.\n",
    "- **ZZ**: Measures the Z (phase) property of both qubits together, showing how their phases relate.\n",
    "- **XX**: Measures the X (flip) property of both qubits together, showing how their flips relate.\n",
    "\n",
    "Each observable helps us understand different aspects of the qubits' states.\n",
    "</details>\n",
    "\n",
    "<details>\n",
    "  <summary>🙋🏽‍♀️ Why do we need observables?</summary>\n",
    "  \n",
    "Observables are essential because they allow us to measure and gather\n",
    "information from a quantum circuit. In quantum computing, we can’t directly\n",
    "observe qubits without collapsing their state, so observables give us a\n",
    "structured way to extract specific data (like phase or flip properties) that\n",
    "reveals the outcomes of our quantum operations. By setting up different\n",
    "observables, we can capture various aspects of the qubits' behavior and\n",
    "relationships, helping us understand the results of our quantum calculations. \n",
    "\n",
    "</details>"
   ]
  },
  {
   "cell_type": "markdown",
   "metadata": {},
   "source": [
    "## Optimize the circuit for the quantum computer"
   ]
  },
  {
   "cell_type": "code",
   "execution_count": null,
   "metadata": {},
   "outputs": [],
   "source": [
    "from qiskit_ibm_runtime import QiskitRuntimeService\n",
    "\n",
    "# Select the least busy available quantum computer (not a simulator)\n",
    "backend = service.least_busy(simulator=False, operational=True)\n",
    "\n",
    "# Optimize the circuit for the selected quantum computer\n",
    "pm = generate_preset_pass_manager(backend=backend, optimization_level=1)\n",
    "isa_circuit = pm.run(qc)\n",
    "\n",
    "# Display a visual of the optimized circuit, showing only active qubits\n",
    "isa_circuit.draw('mpl', idle_wires=False)"
   ]
  },
  {
   "cell_type": "markdown",
   "metadata": {},
   "source": [
    "- This code picks the **least busy quantum computer** available to run the\n",
    "  circuit faster. \n",
    "- It **prepares and optimizes the circuit** to work best on the selected quantum\n",
    "  computer.\n",
    "- Finally, it **shows a picture of the optimized circuit**, displaying only the\n",
    "  active qubits. \n",
    "\n",
    "<details>\n",
    "  <summary>🙋🏿‍♂️ Why do we need to prepares and optimizes the circuit?</summary>\n",
    "  \n",
    "Preparing and optimizing the circuit is essential because quantum computers have unique hardware constraints—such as specific qubit connections and noise levels—that can impact how well a circuit performs. Optimization:\n",
    "\n",
    "1. **Increases Efficiency**: By adjusting the circuit to the hardware’s layout, it reduces the number of operations, making the circuit faster and more reliable.\n",
    "2. **Improves Accuracy**: Minimizing unnecessary operations reduces errors, which helps produce clearer and more accurate results from the quantum computer.\n",
    "\n",
    "In short, optimization helps make the most out of the quantum computer’s resources, ensuring better performance and accuracy in the results.\n",
    "\n",
    "</details>"
   ]
  },
  {
   "cell_type": "markdown",
   "metadata": {},
   "source": [
    "## Run the circuit"
   ]
  },
  {
   "cell_type": "code",
   "execution_count": null,
   "metadata": {},
   "outputs": [],
   "source": [
    "# Set up the Estimator to run the circuit with our settings\n",
    "estimator = Estimator(mode=backend)\n",
    "estimator.options.resilience_level = 1\n",
    "estimator.options.default_shots = 1000\n",
    "\n",
    "# Adjust each measurement to match the layout of our circuit\n",
    "mapped_observables = [\n",
    "    observable.apply_layout(isa_circuit.layout) for observable in observables\n",
    "]\n",
    "\n",
    "# Run the circuit on the quantum computer with our measurements\n",
    "job = estimator.run([(isa_circuit, mapped_observables)])\n",
    "\n",
    "# Print a job ID so we can check the results later\n",
    "print(f\"Job ID: {job.job_id()}\")"
   ]
  },
  {
   "cell_type": "markdown",
   "metadata": {},
   "source": [
    "- This code prepares an **Estimator** to run the circuit we created and optimized earlier 1000 times, with basic error checking, and aligns the measurements to match the circuit layout.\n",
    "- It then **sends the circuit to a quantum computer to run** and creates a job ID, allowing you to check your results later.\n",
    "\n",
    "<details>\n",
    "  <summary>🤔 The roll of the Estimator</summary>\n",
    "  \n",
    "Quantum computers are affected by noise, which means that the results of a\n",
    "single run can be unreliable. By running the circuit many times (like 1000), we\n",
    "can gather more data and calculate the average outcome, which helps reduce the\n",
    "impact of errors and gives us a more accurate result.\n",
    "\n",
    "An Estimator in quantum computing is a tool that calculates the expected\n",
    "(average) result of measurements from the quantum circuit. It takes multiple\n",
    "measurements (from each run) and processes them to provide a single, reliable\n",
    "estimate of the outcome based on the circuit and observables we set up. \n",
    "\n",
    "</details>"
   ]
  },
  {
   "cell_type": "markdown",
   "metadata": {},
   "source": [
    "## Wait for the Circuit to finish running on the Quantum Computer"
   ]
  },
  {
   "cell_type": "code",
   "execution_count": null,
   "metadata": {},
   "outputs": [],
   "source": [
    "# Wait for the circuit run to be completed. Get the overall result from running the circuit\n",
    "job_result = job.result()\n",
    "\n",
    "# Extract the specific results for our six measurements\n",
    "pub_result = job.result()[0]"
   ]
  },
  {
   "cell_type": "markdown",
   "metadata": {},
   "source": [
    "- Once the job is finished, `job.result()` retrieves the **overall result** from running the circuit, including details about the entire submission and some extra information.\n",
    "- `pub_result` pulls out the **specific results for our six measurements (observables)**, showing the data collected for each one in the circuit run.\n",
    "\n",
    "<details>\n",
    "  <summary>😫 Why do we have to wait so long for the circuit to finish?</summary>\n",
    "  \n",
    "We have to wait because there are only a limited number of quantum computers in\n",
    "the world, and these powerful machines are shared by researchers and students\n",
    "globally. Quantum computing is at the **cutting edge of technology and\n",
    "innovation**; by running circuits on these rare and complex machines, you’re\n",
    "part of an incredible moment in science. Every calculation you make is part of a\n",
    "worldwide journey to unlock new ways of solving problems that classical\n",
    "computers can’t handle, putting you on the frontier of the future of computing! \n",
    "\n",
    "</details>"
   ]
  },
  {
   "cell_type": "markdown",
   "metadata": {},
   "source": [
    "## Graph the results"
   ]
  },
  {
   "cell_type": "code",
   "execution_count": null,
   "metadata": {},
   "outputs": [],
   "source": [
    "from matplotlib import pyplot as plt\n",
    "\n",
    "values = pub_result.data.evs\n",
    "\n",
    "errors = pub_result.data.stds\n",
    "\n",
    "# Display the results in a graph\n",
    "plt.plot(observables_labels, values, '-o')\n",
    "plt.xlabel('Observables')\n",
    "plt.ylabel('Values')\n",
    "plt.show()"
   ]
  },
  {
   "cell_type": "markdown",
   "metadata": {},
   "source": [
    "- This code extracts the **measurement results** (`values`) and **errors** (`errors`) from the job results.\n",
    "- It then **plots a graph** showing the values of each observable measurement, using the observable labels on the x-axis.\n",
    "\n",
    "### What does this graph mean?\n",
    "\n",
    "The high values for **\"ZZ\"** and **\"XX\"** in the graph suggest that the two qubits are **entangled**. Here’s why:\n",
    "\n",
    "1. **Entanglement** means the qubits are linked in a way that their states are correlated. When we entangle qubits, measuring one qubit gives us information about the other, even if they’re physically separated. In our circuit, we entangled the qubits using a Hadamard gate on the first qubit followed by a controlled-X (CX) gate, which creates a specific kind of correlation between them.\n",
    "\n",
    "2. **\"ZZ\" and \"XX\" Observables**: The \"ZZ\" observable measures the correlation in the phase states of both qubits, while \"XX\" measures the correlation in their flip states. Since both observables show high values close to 1, this means that:\n",
    "   - When we measure one qubit in the **Z-basis** (related to \"ZZ\"), we get a predictable outcome for the other.\n",
    "   - Similarly, measuring in the **X-basis** (related to \"XX\") also gives consistent, correlated results.\n",
    "   \n",
    "   These strong correlations in both Z and X measurements indicate that the qubits are entangled because the outcome of measuring one qubit directly influences the expected result of the other, regardless of the basis (phase or flip).\n",
    "\n",
    "In summary, the high \"ZZ\" and \"XX\" values are evidence of entanglement, as they\n",
    "show the qubits' states are connected in a way that one qubit’s measurement\n",
    "affects the other.\n",
    "\n",
    "<details>\n",
    "  <summary>🤷🏼 What is a phase state and why it's important? (ZZ)</summary>\n",
    "  \n",
    "The **phase state** of a qubit describes its \"angle\" around the Z-axis. It\n",
    "doesn’t change whether the qubit is 0 or 1, but it affects how qubits work\n",
    "together, especially when they’re entangled. Phase is important because it helps\n",
    "control the results of quantum operations. \n",
    "\n",
    "</details>\n",
    "\n",
    "<details>\n",
    "  <summary>🤷🏾 What is a flip state? (XX)</summary>\n",
    "  \n",
    "The **flip state** of a qubit refers to whether the qubit is in the 0 or 1 position. In quantum terms, the X gate (also known as the \"flip\" or \"NOT\" gate) switches a qubit from 0 to 1 or from 1 to 0, just like flipping a switch.\n",
    "\n",
    "The **Controlled-X (CX) gate** uses this flip operation in a special way. It links two qubits: a **control qubit** and a **target qubit**. Here’s how it works:\n",
    "\n",
    "1. If the **control qubit** is in state 1, the CX gate flips the **target qubit** (changing it from 0 to 1 or 1 to 0).\n",
    "2. If the **control qubit** is in state 0, the target qubit stays the same.\n",
    "\n",
    "This creates a link between the two qubits, which is key to creating **entanglement**. When qubits are entangled through a CX gate, their states become connected, meaning the state of one qubit affects the other. This connection is the foundation of many quantum algorithms.\n",
    "\n",
    "</details>"
   ]
  }
 ],
 "metadata": {
  "language_info": {
   "name": "python"
  }
 },
 "nbformat": 4,
 "nbformat_minor": 2
}
